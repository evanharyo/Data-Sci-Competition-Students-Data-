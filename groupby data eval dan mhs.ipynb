{
 "cells": [
  {
   "cell_type": "code",
   "execution_count": 44,
   "id": "c06591de",
   "metadata": {},
   "outputs": [],
   "source": [
    "import matplotlib.pyplot as plt\n",
    "import pandas as pd\n",
    "import seaborn as sns\n",
    "import numpy as np"
   ]
  },
  {
   "cell_type": "code",
   "execution_count": 45,
   "id": "c892db6a",
   "metadata": {},
   "outputs": [
    {
     "name": "stdout",
     "output_type": "stream",
     "text": [
      "               NIM  ANGKATAN  SEMESTER KODE_MK  \\\n",
      "0      10110310002      2010      1011   EM100   \n",
      "1      10110310002      2010      1011   EM180   \n",
      "2      10110310002      2010      1011   TI100   \n",
      "3      10110310002      2010      1011   TI101   \n",
      "4      10110310002      2010      1011   TI110   \n",
      "...            ...       ...       ...     ...   \n",
      "30865        33849      2018      1821   IS220   \n",
      "30866        33849      2018      1821   IS240   \n",
      "30867        33849      2018      1821   IS251   \n",
      "30868        33849      2018      1821   IS255   \n",
      "30869        33849      2018      1821   UM223   \n",
      "\n",
      "                                    NAMA_MK  SKS  NILAI GRADE  \n",
      "0                  EM100 Dasar-dasar Bisnis    3   57.0     C  \n",
      "1                   EM180 Matematika Bisnis    3   70.0     B  \n",
      "2           TI100 Algoritma dan Pemrograman    4   57.0     C  \n",
      "3                  TI101 Matematika Diskrit    3   59.0     C  \n",
      "4      TI110 Pengantar Teknologi Multimedia    3   74.0     B  \n",
      "...                                     ...  ...    ...   ...  \n",
      "30865        Interaksi Manusia dan Komputer    3   26.0     E  \n",
      "30866            Probabilitas dan Statistik    3   38.0     E  \n",
      "30867                   Perilaku Organisasi    2   49.0     D  \n",
      "30868           Algoritma dan Struktur Data    4    1.0     E  \n",
      "30869                      Bahasa Inggris 2    2   40.0     E  \n",
      "\n",
      "[30870 rows x 8 columns]\n"
     ]
    }
   ],
   "source": [
    "df = pd.read_excel (r'C:\\Users\\Andri\\Downloads\\data lomba 2.xlsx')\n",
    "print (df)"
   ]
  },
  {
   "cell_type": "code",
   "execution_count": 46,
   "id": "140c2246",
   "metadata": {},
   "outputs": [
    {
     "name": "stdout",
     "output_type": "stream",
     "text": [
      "<class 'pandas.core.frame.DataFrame'>\n",
      "RangeIndex: 30870 entries, 0 to 30869\n",
      "Data columns (total 8 columns):\n",
      " #   Column    Non-Null Count  Dtype  \n",
      "---  ------    --------------  -----  \n",
      " 0   NIM       30870 non-null  int64  \n",
      " 1   ANGKATAN  30870 non-null  int64  \n",
      " 2   SEMESTER  30870 non-null  int64  \n",
      " 3   KODE_MK   30870 non-null  object \n",
      " 4   NAMA_MK   30847 non-null  object \n",
      " 5   SKS       30870 non-null  int64  \n",
      " 6   NILAI     30858 non-null  float64\n",
      " 7   GRADE     30318 non-null  object \n",
      "dtypes: float64(1), int64(4), object(3)\n",
      "memory usage: 1.9+ MB\n"
     ]
    }
   ],
   "source": [
    "df.info()"
   ]
  },
  {
   "cell_type": "code",
   "execution_count": 60,
   "id": "8d6489a3",
   "metadata": {},
   "outputs": [],
   "source": [
    "data = df.groupby(['KODE_MK', 'SEMESTER'])['NILAI'].mean()\n"
   ]
  },
  {
   "cell_type": "code",
   "execution_count": 61,
   "id": "4605433f",
   "metadata": {},
   "outputs": [
    {
     "data": {
      "text/plain": [
       "KODE_MK  SEMESTER\n",
       "CE441    1421        66.172414\n",
       "         1511        68.135135\n",
       "         1521        67.666667\n",
       "         1611        65.597826\n",
       "         1621        43.333333\n",
       "                       ...    \n",
       "UM321    1621        74.557377\n",
       "         1711        68.000000\n",
       "         1721        75.839080\n",
       "         1811        67.700000\n",
       "         1821        56.250000\n",
       "Name: NILAI, Length: 626, dtype: float64"
      ]
     },
     "metadata": {},
     "output_type": "display_data"
    }
   ],
   "source": [
    "display(data)"
   ]
  },
  {
   "cell_type": "code",
   "execution_count": null,
   "id": "b61cf580",
   "metadata": {},
   "outputs": [],
   "source": []
  },
  {
   "cell_type": "code",
   "execution_count": 62,
   "id": "ab2d2887",
   "metadata": {},
   "outputs": [],
   "source": [
    "data.to_excel(\"tren nilai mkkode.xlsx\")"
   ]
  },
  {
   "cell_type": "code",
   "execution_count": 55,
   "id": "095111ee",
   "metadata": {},
   "outputs": [
    {
     "name": "stdout",
     "output_type": "stream",
     "text": [
      "      TAHUN  SEMESTER                                      MATAKULIAH  \\\n",
      "0      2015      1511            IS100 Management Information Systems   \n",
      "1      2015      1511            IS100 Management Information Systems   \n",
      "2      2015      1511            IS100 Management Information Systems   \n",
      "3      2015      1511            IS100 Management Information Systems   \n",
      "4      2015      1511            IS100 Management Information Systems   \n",
      "...     ...       ...                                             ...   \n",
      "2109   2018      1821  IS726 Innovation in Information and Technology   \n",
      "2110   2018      1821  IS726 Innovation in Information and Technology   \n",
      "2111   2018      1821  IS726 Innovation in Information and Technology   \n",
      "2112   2018      1821  IS726 Innovation in Information and Technology   \n",
      "2113   2018      1821  IS726 Innovation in Information and Technology   \n",
      "\n",
      "      PERTANYAAN                                         KETERANGAN  NILAI  \n",
      "0              1          Kesiapan memberikan perkuliahan/praktikum   3.28  \n",
      "1              2  Upaya  menyampaikan materi perkuliahan/praktik...   3.25  \n",
      "2              3  Sistematis dalam menyampaikan materi perkuliah...   3.24  \n",
      "3              4  Kemampuan memberikan contoh yang relevan dari ...   3.30  \n",
      "4              5  Penyampaian materi perkuliahan sesuai dengan k...   3.27  \n",
      "...          ...                                                ...    ...  \n",
      "2109          10  Pemberian tugas/kuis serta pembahasannya di kelas   3.45  \n",
      "2110          11    Kemampuan memotivasi semangat belajar mahasiswa   3.41  \n",
      "2111          12      Kemampuan menerima kritik, saran dan pendapat   3.48  \n",
      "2112          13                Fairness dalam memberikan penilaian   3.49  \n",
      "2113          14  Ketepatan waktu dalam memulai dan mengakhiri p...   3.48  \n",
      "\n",
      "[2114 rows x 6 columns]\n"
     ]
    }
   ],
   "source": [
    "df1 = pd.read_excel (r'F:\\File Evan H\\data2\\edom rata2.xlsx')\n",
    "print (df1)"
   ]
  },
  {
   "cell_type": "code",
   "execution_count": 56,
   "id": "49be82b7",
   "metadata": {},
   "outputs": [
    {
     "name": "stdout",
     "output_type": "stream",
     "text": [
      "<class 'pandas.core.frame.DataFrame'>\n",
      "RangeIndex: 2114 entries, 0 to 2113\n",
      "Data columns (total 6 columns):\n",
      " #   Column      Non-Null Count  Dtype  \n",
      "---  ------      --------------  -----  \n",
      " 0   TAHUN       2114 non-null   int64  \n",
      " 1   SEMESTER    2114 non-null   int64  \n",
      " 2   MATAKULIAH  2114 non-null   object \n",
      " 3   PERTANYAAN  2114 non-null   int64  \n",
      " 4   KETERANGAN  2114 non-null   object \n",
      " 5   NILAI       2114 non-null   float64\n",
      "dtypes: float64(1), int64(3), object(2)\n",
      "memory usage: 99.2+ KB\n"
     ]
    }
   ],
   "source": [
    "df1.info()"
   ]
  },
  {
   "cell_type": "code",
   "execution_count": 57,
   "id": "fabe0879",
   "metadata": {},
   "outputs": [],
   "source": [
    "data1 = df1.groupby(['MATAKULIAH', 'SEMESTER'])['NILAI'].mean()"
   ]
  },
  {
   "cell_type": "code",
   "execution_count": 58,
   "id": "d8513af6",
   "metadata": {},
   "outputs": [
    {
     "data": {
      "text/plain": [
       "MATAKULIAH                                  SEMESTER\n",
       "IS100 Management Information Systems        1511        3.265000\n",
       "                                            1611        3.534286\n",
       "                                            1711        3.308571\n",
       "                                            1811        3.321429\n",
       "IS110 Business Mathematics                  1511        3.087143\n",
       "                                                          ...   \n",
       "IS773 IT Governance 3                       1811        3.240714\n",
       "IS782 Enterprise Application and Systems 3  1511        3.281429\n",
       "                                            1611        3.372143\n",
       "                                            1711        3.285714\n",
       "                                            1811        3.310714\n",
       "Name: NILAI, Length: 151, dtype: float64"
      ]
     },
     "metadata": {},
     "output_type": "display_data"
    }
   ],
   "source": [
    "display(data1)"
   ]
  },
  {
   "cell_type": "code",
   "execution_count": 59,
   "id": "21df85e8",
   "metadata": {},
   "outputs": [],
   "source": [
    "data1.to_excel(\"edom rata2.xlsx\")"
   ]
  },
  {
   "cell_type": "code",
   "execution_count": null,
   "id": "56410350",
   "metadata": {},
   "outputs": [],
   "source": []
  }
 ],
 "metadata": {
  "kernelspec": {
   "display_name": "Python 3",
   "language": "python",
   "name": "python3"
  },
  "language_info": {
   "codemirror_mode": {
    "name": "ipython",
    "version": 3
   },
   "file_extension": ".py",
   "mimetype": "text/x-python",
   "name": "python",
   "nbconvert_exporter": "python",
   "pygments_lexer": "ipython3",
   "version": "3.8.8"
  }
 },
 "nbformat": 4,
 "nbformat_minor": 5
}
